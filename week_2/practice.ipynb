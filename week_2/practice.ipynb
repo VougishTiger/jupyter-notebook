{
 "cells": [
  {
   "cell_type": "code",
   "execution_count": 11,
   "id": "5720da34",
   "metadata": {},
   "outputs": [
    {
     "name": "stdout",
     "output_type": "stream",
     "text": [
      "Messy Data:\n",
      "      Name   Age  Score\n",
      "0    Alice    24     88\n",
      "1      Bob    27    NaN\n",
      "2  Charlie    22     95\n",
      "3    Alice    24     88\n",
      "4    Diana           82\n",
      "5    Ethan    26     91\n"
     ]
    }
   ],
   "source": [
    "import pandas as pd\n",
    "\n",
    "csv_data= \"\"\"Name, Age, Score\n",
    "Alice, 24, 88\n",
    "Bob, 27, NaN\n",
    "Charlie, 22, 95\n",
    "Alice, 24, 88\n",
    "Diana, ,82\n",
    "Ethan,  26, 91\n",
    "\"\"\"\n",
    "with open(\"messy_data.csv\", \"w\") as f:\n",
    "  f.write(csv_data)\n",
    "\n",
    "\n",
    "data= pd.read_csv(\"messy_data.csv\")\n",
    "\n",
    "print(\"Messy Data:\")\n",
    "print(data)"
   ]
  },
  {
   "cell_type": "code",
   "execution_count": 12,
   "id": "c8d78191",
   "metadata": {},
   "outputs": [
    {
     "name": "stdout",
     "output_type": "stream",
     "text": [
      "✅ Cleaned Data:\n",
      "  Full_Name  Age_Years  Score  score\n",
      "0     Alice       24.0   88.0   88.0\n",
      "1       Bob       27.0    NaN   88.8\n",
      "2   Charlie       22.0   95.0   95.0\n",
      "4     Diana       24.6   82.0   82.0\n",
      "5     Ethan       26.0   91.0   91.0\n"
     ]
    }
   ],
   "source": [
    "data.columns= data.columns.str.strip()\n",
    "\n",
    "data[\"Age\"]= pd.to_numeric(data[\"Age\"], errors= \"coerce\")\n",
    "\n",
    "data[\"Score\"]= pd.to_numeric(data[\"Score\"], errors= \"coerce\")\n",
    "\n",
    "data[\"Age\"]= data[\"Age\"].fillna(data[\"Age\"].mean())\n",
    "data[\"score\"]= data[\"Score\"].fillna(data[\"Score\"].mean())\n",
    "\n",
    "data= data.drop_duplicates()\n",
    "\n",
    "data= data.rename(columns={\"Name\": \"Full_Name\", \"Age\": \"Age_Years\"})\n",
    "\n",
    "print(\"✅ Cleaned Data:\")\n",
    "print(data)\n",
    "\n",
    "data.to_csv(\"cleaned_data.csv\", index=False)"
   ]
  }
 ],
 "metadata": {
  "kernelspec": {
   "display_name": "Python 3",
   "language": "python",
   "name": "python3"
  },
  "language_info": {
   "codemirror_mode": {
    "name": "ipython",
    "version": 3
   },
   "file_extension": ".py",
   "mimetype": "text/x-python",
   "name": "python",
   "nbconvert_exporter": "python",
   "pygments_lexer": "ipython3",
   "version": "3.12.4"
  }
 },
 "nbformat": 4,
 "nbformat_minor": 5
}
