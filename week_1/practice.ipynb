{
 "cells": [
  {
   "cell_type": "code",
   "execution_count": 1,
   "id": "7aa38793",
   "metadata": {},
   "outputs": [
    {
     "data": {
      "text/html": [
       "<div>\n",
       "<style scoped>\n",
       "    .dataframe tbody tr th:only-of-type {\n",
       "        vertical-align: middle;\n",
       "    }\n",
       "\n",
       "    .dataframe tbody tr th {\n",
       "        vertical-align: top;\n",
       "    }\n",
       "\n",
       "    .dataframe thead th {\n",
       "        text-align: right;\n",
       "    }\n",
       "</style>\n",
       "<table border=\"1\" class=\"dataframe\">\n",
       "  <thead>\n",
       "    <tr style=\"text-align: right;\">\n",
       "      <th></th>\n",
       "      <th>Name</th>\n",
       "      <th>Age</th>\n",
       "    </tr>\n",
       "  </thead>\n",
       "  <tbody>\n",
       "    <tr>\n",
       "      <th>0</th>\n",
       "      <td>Superman</td>\n",
       "      <td>25</td>\n",
       "    </tr>\n",
       "    <tr>\n",
       "      <th>1</th>\n",
       "      <td>Batman</td>\n",
       "      <td>30</td>\n",
       "    </tr>\n",
       "    <tr>\n",
       "      <th>2</th>\n",
       "      <td>The Flash</td>\n",
       "      <td>35</td>\n",
       "    </tr>\n",
       "  </tbody>\n",
       "</table>\n",
       "</div>"
      ],
      "text/plain": [
       "        Name  Age\n",
       "0   Superman   25\n",
       "1     Batman   30\n",
       "2  The Flash   35"
      ]
     },
     "execution_count": 1,
     "metadata": {},
     "output_type": "execute_result"
    }
   ],
   "source": [
    "import numpy as np \n",
    "import pandas as pd \n",
    "\n",
    "data = pd.DataFrame({\n",
    "  \"Name\": [\"Superman\", \"Batman\", \"The Flash\"],\n",
    "  \"Age\": [25, 30, 35] \n",
    "})\n",
    "\n",
    "data"
   ]
  },
  {
   "cell_type": "code",
   "execution_count": 2,
   "id": "a2de6287",
   "metadata": {},
   "outputs": [
    {
     "name": "stdout",
     "output_type": "stream",
     "text": [
      "First 5 rows:\n",
      "      Name  Age  Score\n",
      "0    Alice   24     88\n",
      "1      Bob   27     75\n",
      "2  Charlie   22     95\n",
      "3    Diana   29     82\n",
      "4    Ethan   26     91\n",
      "\n",
      "Average Score: 86.2\n"
     ]
    }
   ],
   "source": [
    "import pandas as pd \n",
    "\n",
    "csv_data= \"\"\"Name,Age,Score\n",
    "Alice,24,88\n",
    "Bob,27,75\n",
    "Charlie,22,95\n",
    "Diana,29,82\n",
    "Ethan,26,91\n",
    "\"\"\"\n",
    "with open(\"sample_data.csv\", \"w\") as f:\n",
    "  f.write(csv_data)\n",
    "\n",
    "data= pd.read_csv(\"sample_data.csv\")\n",
    "\n",
    "print(\"First 5 rows:\")\n",
    "print(data.head())\n",
    "\n",
    "average_score= data[\"Score\"].mean()\n",
    "print(\"\\nAverage Score:\", average_score)\n",
    "\n"
   ]
  }
 ],
 "metadata": {
  "kernelspec": {
   "display_name": "Python 3",
   "language": "python",
   "name": "python3"
  },
  "language_info": {
   "codemirror_mode": {
    "name": "ipython",
    "version": 3
   },
   "file_extension": ".py",
   "mimetype": "text/x-python",
   "name": "python",
   "nbconvert_exporter": "python",
   "pygments_lexer": "ipython3",
   "version": "3.12.4"
  }
 },
 "nbformat": 4,
 "nbformat_minor": 5
}
